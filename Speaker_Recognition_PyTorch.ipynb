{
  "nbformat": 4,
  "nbformat_minor": 0,
  "metadata": {
    "colab": {
      "provenance": [],
      "authorship_tag": "ABX9TyPRJ1E44tgKhYj6J6pUG79g"
    },
    "kernelspec": {
      "name": "python3",
      "display_name": "Python 3"
    },
    "language_info": {
      "name": "python"
    }
  },
  "cells": [
    {
      "cell_type": "code",
      "execution_count": 1,
      "metadata": {
        "id": "7p6STjxrbpoq"
      },
      "outputs": [],
      "source": [
        "import numpy as np\n",
        "from sklearn.mixture import GaussianMixture"
      ]
    },
    {
      "cell_type": "code",
      "source": [
        "def GenerateData():\n",
        "  # GMM for clss 0\n",
        "  GMM1 = GaussianMixture(n_components=2, coveriance_type='spherical')\n",
        "  GMM1.weights_ = np.array([0.5, 0.5])\n",
        "  GMM1.means_ = np.array([[0.0], [1.1]])\n",
        "  GMM1.covariances_ = np.array([0.05, 0.05])\n",
        "\n",
        "   # GMM for clss 1\n",
        "  GMM1 = GaussianMixture(n_components=2, coveriance_type='spherical')\n",
        "  GMM1.weights_ = np.array([0.5, 0.5])\n",
        "  GMM1.means_ = np.array([[0.1], [1.0]])\n",
        "  GMM1.covariances_ = np.array([0.05, 0.05])\n",
        "\n",
        "  # sample training data\n",
        "  x_train = np.concatinate([GMM1.sample(1000)[0], GMM2.sample(1000)[0]])\n",
        "  y_train = np.array([0.0] * 1000 + [1.0] * 1000)\n",
        "\n",
        "  # sample testing data\n",
        "  x_test = np.concatinate([GMM1.sample(1000)[0], GMM2.sample(1000)[0]])\n",
        "  y_test = np.array([0.0] * 100 + [1.0] * 100)\n",
        "\n",
        "  return x_train, y_train, x_test, y_test\n"
      ],
      "metadata": {
        "id": "2jPDCc4Cb5za"
      },
      "execution_count": 2,
      "outputs": []
    },
    {
      "cell_type": "code",
      "source": [
        "import torch\n",
        "import torch.nn as nn\n",
        "\n",
        "class MyNet(nn.Module):\n",
        "  def __init__(self):\n",
        "    super(MyNet, self).__init__()\n",
        "    self.feedforward1 = nn.Linear(2, 8)\n",
        "    self.feedforward2 = nn.Linear(8,8)\n",
        "    self.feedforward_output = nn.Linear(8,1)\n",
        "\n",
        "  def forward(self, x):\n",
        "    y = torch.sigmoid(self.feedforward1(x))\n",
        "    y = torch.sigmoid(self.feedforward2(x))\n",
        "    y = torch.sigmoid(self.feedforward_output(y))\n",
        "    return y"
      ],
      "metadata": {
        "id": "eNvWWy5Vpk_q"
      },
      "execution_count": null,
      "outputs": []
    }
  ]
}